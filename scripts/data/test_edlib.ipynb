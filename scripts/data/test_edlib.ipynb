{
 "cells": [
  {
   "cell_type": "markdown",
   "id": "09e5fd6b",
   "metadata": {},
   "source": [
    "# Test edlib module"
   ]
  },
  {
   "cell_type": "code",
   "execution_count": 17,
   "id": "03027c70",
   "metadata": {},
   "outputs": [],
   "source": [
    "import edlib "
   ]
  },
  {
   "cell_type": "markdown",
   "id": "5aa3dd01",
   "metadata": {},
   "source": [
    "### results after cd-hit-2d deleaking"
   ]
  },
  {
   "cell_type": "code",
   "execution_count": 18,
   "id": "7b2648a9",
   "metadata": {},
   "outputs": [
    {
     "data": {
      "text/plain": [
       "{'editDistance': 0,\n",
       " 'alphabetLength': 20,\n",
       " 'locations': [(193, 315)],\n",
       " 'cigar': '123='}"
      ]
     },
     "execution_count": 18,
     "metadata": {},
     "output_type": "execute_result"
    }
   ],
   "source": [
    "query = \"IGGCRPSAQSLEIKHGDLSINSANNHYAAQTLSVSCDVPANIRFMLLRNTTPTYSHGKKFSVGLGHGWDSIVSVNGVDTGETTMRWYKAGTQNLTIGSRLYGESSKIQPGVLSGSATLLMILP\"\n",
    "target = \"WNNIVFYSLGDVNSYQGGNVVITQRPQFITSWRPGIATVTWNQCNGPGFADGFWAYYREYIAWVVFPKKVMTQNGYPLFIEVHNKGSWSEENTGDNDSYFFLKGYKWDERAFDAGNLCQKPGETTRLTEKFDDIIFKVALPADLPLGDYSVKIPYTSGMQRHFASYLGARFKIPYNVAKTLPRENEMLFLFKNIGGCRPSAQSLEIKHGDLSINSANNHYAAQTLSVSCDVPANIRFMLLRNTTPTYSHGKKFSVGLGHGWDSIVSVNGVDTGETTMRWYKAGTQNLTIGSRLYGESSKIQPGVLSGSATLLMILP\"\n",
    "\n",
    "res = edlib.align(query, target, mode=\"HW\", task=\"path\")\n",
    "res"
   ]
  },
  {
   "cell_type": "code",
   "execution_count": 19,
   "id": "4774e559",
   "metadata": {},
   "outputs": [
    {
     "name": "stdout",
     "output_type": "stream",
     "text": [
      "IGGCRPSAQSLEIKHGDLSINSANNHYAAQTLSVSCDVPANIRFMLLRNTTPTYSHGKKFSVGLGHGWDSIVSVNGVDTGETTMRWYKAGTQNLTIGSRLYGESSKIQPGVLSGSATLLMILP\n",
      "|||||||||||||||||||||||||||||||||||||||||||||||||||||||||||||||||||||||||||||||||||||||||||||||||||||||||||||||||||||||||||\n",
      "IGGCRPSAQSLEIKHGDLSINSANNHYAAQTLSVSCDVPANIRFMLLRNTTPTYSHGKKFSVGLGHGWDSIVSVNGVDTGETTMRWYKAGTQNLTIGSRLYGESSKIQPGVLSGSATLLMILP\n"
     ]
    }
   ],
   "source": [
    "nice = edlib.getNiceAlignment(res, query, target)\n",
    "print(\"\\n\".join(nice.values()))"
   ]
  },
  {
   "cell_type": "code",
   "execution_count": 20,
   "id": "4297ea27",
   "metadata": {},
   "outputs": [
    {
     "data": {
      "text/plain": [
       "{'editDistance': 0,\n",
       " 'alphabetLength': 20,\n",
       " 'locations': [(224, 450)],\n",
       " 'cigar': '227='}"
      ]
     },
     "execution_count": 20,
     "metadata": {},
     "output_type": "execute_result"
    }
   ],
   "source": [
    "query = \"ANEDIVVSKTSLWKEMQYNRDITIRFKFASSIVKSGGLGYKWSEISFKPANYQYTYTRDGEEVTAHTTCSVNGMNDFNFNGGSLPTDFVISRYEVIKENSYVYVDYWDDSQAFRNMVYVRSLAANLNSVICTGGDYSFALPVGQWPVMTGGAVSLHSAGVTLSTQFTDFVSLNSLRFRFRLTVEEPSFSITRTRVSRLYGLPAANPNNGKEYYEVAGRFSLISLVPS\"\n",
    "target = \"MASLIYRQLLTNSYTVDLSDEIQEIGSTKTQNVTINLGPFAQTGYAPVNWGPGETNDSTTVEPVLDGPYQPTTFNPPVDYWMLLAPTAAGVVVEGTNNTDRWLATILVEPNVTSETRSYTLFGTQEQITIANASQTQWKFIDVVKTTQNGSYSQYGPLQSTPKLYAVMKHNGKIYTYNGETPNVTTKYYSTTNYDSVNMTAFCDFYIIPREEESTCTEYINNGLANEDIVVSKTSLWKEMQYNRDITIRFKFASSIVKSGGLGYKWSEISFKPANYQYTYTRDGEEVTAHTTCSVNGMNDFNFNGGSLPTDFVISRYEVIKENSYVYVDYWDDSQAFRNMVYVRSLAANLNSVICTGGDYSFALPVGQWPVMTGGAVSLHSAGVTLSTQFTDFVSLNSLRFRFRLTVEEPSFSITRTRVSRLYGLPAANPNNGKEYYEVAGRFSLISLVPSNDDYQTPITNSVTVRQDLERQLGELREEFNALSQEIAMSQLIDLALLPLDMFSMFSGIKSTIDAAKSMATSVMKKFKKSGLANSVSTLTDSLSDAASSISRGASIRSVGSSASAWTDVSTQISSISTQTSTISRRLRLKEMATQTEGMNFDDISAAVLKTKIDRSTQISPNTLPDIVTEASEKFIPNRAYRVINNDEVFEAGTDGRFFAYRVETFDEIPFDVQKFADLVTDSPVISAIIDFKTLKNLNDNYGISRQQAFNLLRSDPRVLREFINQDNPIIRNRIEQLIMQCRL\"\n",
    "\n",
    "res = edlib.align(query, target, mode=\"HW\", task=\"path\")\n",
    "res"
   ]
  },
  {
   "cell_type": "code",
   "execution_count": 21,
   "id": "87eda21c",
   "metadata": {},
   "outputs": [
    {
     "name": "stdout",
     "output_type": "stream",
     "text": [
      "ANEDIVVSKTSLWKEMQYNRDITIRFKFASSIVKSGGLGYKWSEISFKPANYQYTYTRDGEEVTAHTTCSVNGMNDFNFNGGSLPTDFVISRYEVIKENSYVYVDYWDDSQAFRNMVYVRSLAANLNSVICTGGDYSFALPVGQWPVMTGGAVSLHSAGVTLSTQFTDFVSLNSLRFRFRLTVEEPSFSITRTRVSRLYGLPAANPNNGKEYYEVAGRFSLISLVPS\n",
      "|||||||||||||||||||||||||||||||||||||||||||||||||||||||||||||||||||||||||||||||||||||||||||||||||||||||||||||||||||||||||||||||||||||||||||||||||||||||||||||||||||||||||||||||||||||||||||||||||||||||||||||||||||||||||||||||||||\n",
      "ANEDIVVSKTSLWKEMQYNRDITIRFKFASSIVKSGGLGYKWSEISFKPANYQYTYTRDGEEVTAHTTCSVNGMNDFNFNGGSLPTDFVISRYEVIKENSYVYVDYWDDSQAFRNMVYVRSLAANLNSVICTGGDYSFALPVGQWPVMTGGAVSLHSAGVTLSTQFTDFVSLNSLRFRFRLTVEEPSFSITRTRVSRLYGLPAANPNNGKEYYEVAGRFSLISLVPS\n"
     ]
    }
   ],
   "source": [
    "nice = edlib.getNiceAlignment(res, query, target)\n",
    "print(\"\\n\".join(nice.values()))"
   ]
  },
  {
   "cell_type": "code",
   "execution_count": 22,
   "id": "94f6984e",
   "metadata": {},
   "outputs": [
    {
     "data": {
      "text/plain": [
       "{'editDistance': 65,\n",
       " 'alphabetLength': 20,\n",
       " 'locations': [(73, 209)],\n",
       " 'cigar': '2=1X3=1X1=4X1=1X1=1D4=1X1=1X8=1D1=1I19=1I1=1X1D14=1X7=1X1=1X8=1X1=1X2=1X2=2X1=1I1=1I1=1I1=4X5I1=1X2I1=3X3I1=1I1=6X1=9X1=3X1=1X1I1='}"
      ]
     },
     "execution_count": 22,
     "metadata": {},
     "output_type": "execute_result"
    }
   ],
   "source": [
    "query = \"SAPNSVTITNASGGLYLVEYPEGYVAYSKATEVTGKLVHANFGTKKDFEDLDYAVNGSIVIVRAGKITIAEKVANAQSFNAIGVLIYKDRTKYPISRADEPLPSIPVQTISREAAEKLFQNMERDCPRSWNTDSSCKLELLQNRNVKLTVN\"\n",
    "target = \"LYWDDLKRKLSEKLDSTDFTSTIKLLNENSYVPREAGSQKDENLALYVENEFREFKLSKVWRDQHFVKIQVKDSAQNSVIIVDKNGRLVYLVENPGGYVAYSKAATVTGKLVHANFGTKKDFEDLYTPVNGSIVIVRAGKITFAEKVANAESLNAIGVLIYMDQTKFPIVNAELSFFGHAHLGTGDPYTPGFPSFNHTQFPPSRSSGLPNIPVQTISRAAAEKLFGNMEGDCPSDWKTDSTCRMVTSESKNVKLTVSNVLKEIKILNIFGVIKGFVEPDHYVVVGAQRDAWGPGAAKSGVGTALLLKLAQMFSDMVLKDGFQPSRSIIFASWSAGDFGSVGATEWLEGYLSSLHLKAFTYINLDKAVLGTSNFKVSASPLLYTLIEKTMQNVKHPVTGQFLYQDSNWASKVEKLTLDNAAFPFLAYSGIPAVSFCFCEDTDYPYLGTTMDTYKELIERIPELNKVARAAAEVAGQFVIKLTHDVELNLDYEEYNSQLLSFVRDLNQYRADIKEMGLSLQWLYSARGDFFRATSRLTTDFGNAEKTDRFVMKKLNDRVMRVEYHFLSPYVSPKESPFRHVFWGSGSHTLPALLENLKLRKQNNGAFNETLFRNQLALATWTIQGAANALSGDVWDIDNEF\"\n",
    "\n",
    "res = edlib.align(query, target, mode=\"HW\", task=\"path\")\n",
    "res"
   ]
  },
  {
   "cell_type": "code",
   "execution_count": 23,
   "id": "eb1c4afc",
   "metadata": {},
   "outputs": [
    {
     "name": "stdout",
     "output_type": "stream",
     "text": [
      "SAPNSVTITNASGGL-YLVEYPEGYVAYSKA-TEVTGKLVHANFGTKKDFEDLDYA-VNGSIVIVRAGKITIAEKVANAQSFNAIGVLIYKDRTKYPISRADEPLPSIPVQTISREAAEKLFQNMERDCPRSWNTDSSCKLELLQNRNVKLTVN\n",
      "||.|||.|....|.|-||||.|.||||||||-|-|||||||||||||||||||-|.-||||||||||||||.|||||||.|.||||||||.|.||.||..|-|-|-|....-----|.--|...---|-|......|.........|...|.-|\n",
      "SAQNSVIIVDKNGRLVYLVENPGGYVAYSKAAT-VTGKLVHANFGTKKDFEDL-YTPVNGSIVIVRAGKITFAEKVANAESLNAIGVLIYMDQTKFPIVNA-E-L-SFFGH-----AH--LGTG---D-PYTPGFPSFNHTQFPPSRSSGLP-N\n"
     ]
    }
   ],
   "source": [
    "nice = edlib.getNiceAlignment(res, query, target)\n",
    "print(\"\\n\".join(nice.values()))"
   ]
  },
  {
   "cell_type": "markdown",
   "id": "e4c70742",
   "metadata": {},
   "source": [
    "### Test global mode"
   ]
  },
  {
   "cell_type": "code",
   "execution_count": 24,
   "id": "151b7a49",
   "metadata": {},
   "outputs": [
    {
     "data": {
      "text/plain": [
       "{'editDistance': 193,\n",
       " 'alphabetLength': 20,\n",
       " 'locations': [(0, 315)],\n",
       " 'cigar': '3D1=5D1=6D1=26D1=13D1=8D1=19D1=23D1=7D1=30D1=16D1=16D1=9D1=12D110='}"
      ]
     },
     "execution_count": 24,
     "metadata": {},
     "output_type": "execute_result"
    }
   ],
   "source": [
    "query = \"IGGCRPSAQSLEIKHGDLSINSANNHYAAQTLSVSCDVPANIRFMLLRNTTPTYSHGKKFSVGLGHGWDSIVSVNGVDTGETTMRWYKAGTQNLTIGSRLYGESSKIQPGVLSGSATLLMILP\"\n",
    "target = \"WNNIVFYSLGDVNSYQGGNVVITQRPQFITSWRPGIATVTWNQCNGPGFADGFWAYYREYIAWVVFPKKVMTQNGYPLFIEVHNKGSWSEENTGDNDSYFFLKGYKWDERAFDAGNLCQKPGETTRLTEKFDDIIFKVALPADLPLGDYSVKIPYTSGMQRHFASYLGARFKIPYNVAKTLPRENEMLFLFKNIGGCRPSAQSLEIKHGDLSINSANNHYAAQTLSVSCDVPANIRFMLLRNTTPTYSHGKKFSVGLGHGWDSIVSVNGVDTGETTMRWYKAGTQNLTIGSRLYGESSKIQPGVLSGSATLLMILP\"\n",
    "\n",
    "res = edlib.align(query, target, mode=\"NW\", task=\"path\")\n",
    "res"
   ]
  },
  {
   "cell_type": "code",
   "execution_count": 25,
   "id": "a1452693",
   "metadata": {},
   "outputs": [
    {
     "name": "stdout",
     "output_type": "stream",
     "text": [
      "---I-----G------G--------------------------C-------------R--------P-------------------S-----------------------A-------Q------------------------------S----------------L----------------E---------I------------KHGDLSINSANNHYAAQTLSVSCDVPANIRFMLLRNTTPTYSHGKKFSVGLGHGWDSIVSVNGVDTGETTMRWYKAGTQNLTIGSRLYGESSKIQPGVLSGSATLLMILP\n",
      "---|-----|------|--------------------------|-------------|--------|-------------------|-----------------------|-------|------------------------------|----------------|----------------|---------|------------||||||||||||||||||||||||||||||||||||||||||||||||||||||||||||||||||||||||||||||||||||||||||||||||||||||||||||||\n",
      "WNNIVFYSLGDVNSYQGGNVVITQRPQFITSWRPGIATVTWNQCNGPGFADGFWAYYREYIAWVVFPKKVMTQNGYPLFIEVHNKGSWSEENTGDNDSYFFLKGYKWDERAFDAGNLCQKPGETTRLTEKFDDIIFKVALPADLPLGDYSVKIPYTSGMQRHFASYLGARFKIPYNVAKTLPRENEMLFLFKNIGGCRPSAQSLEIKHGDLSINSANNHYAAQTLSVSCDVPANIRFMLLRNTTPTYSHGKKFSVGLGHGWDSIVSVNGVDTGETTMRWYKAGTQNLTIGSRLYGESSKIQPGVLSGSATLLMILP\n"
     ]
    }
   ],
   "source": [
    "nice = edlib.getNiceAlignment(res, query, target)\n",
    "print(\"\\n\".join(nice.values()))"
   ]
  }
 ],
 "metadata": {
  "kernelspec": {
   "display_name": "Python 3 (ipykernel)",
   "language": "python",
   "name": "python3"
  }
 },
 "nbformat": 4,
 "nbformat_minor": 5
}

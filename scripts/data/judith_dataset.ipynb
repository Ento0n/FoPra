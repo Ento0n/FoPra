{
 "cells": [
  {
   "cell_type": "markdown",
   "id": "40d571f2",
   "metadata": {},
   "source": [
    "# Judith dataset yey"
   ]
  },
  {
   "cell_type": "code",
   "execution_count": 1,
   "id": "2bed58a6",
   "metadata": {},
   "outputs": [],
   "source": [
    "import pandas as pd"
   ]
  },
  {
   "cell_type": "code",
   "execution_count": 6,
   "id": "93a7496e",
   "metadata": {},
   "outputs": [
    {
     "data": {
      "text/html": [
       "<div>\n",
       "<style scoped>\n",
       "    .dataframe tbody tr th:only-of-type {\n",
       "        vertical-align: middle;\n",
       "    }\n",
       "\n",
       "    .dataframe tbody tr th {\n",
       "        vertical-align: top;\n",
       "    }\n",
       "\n",
       "    .dataframe thead th {\n",
       "        text-align: right;\n",
       "    }\n",
       "</style>\n",
       "<table border=\"1\" class=\"dataframe\">\n",
       "  <thead>\n",
       "    <tr style=\"text-align: right;\">\n",
       "      <th></th>\n",
       "      <th>receptor_seq</th>\n",
       "      <th>ligand_seq</th>\n",
       "      <th>label</th>\n",
       "      <th>split</th>\n",
       "    </tr>\n",
       "  </thead>\n",
       "  <tbody>\n",
       "    <tr>\n",
       "      <th>0</th>\n",
       "      <td>MNHLNVLAKALYDNVAESPDELSFRKGDIMTVLEQDTQGLDGWWLC...</td>\n",
       "      <td>MSKPPPKPVKPGQVKVFRALYTFEPRTPDELYFEEGDIIYITDMSD...</td>\n",
       "      <td>1</td>\n",
       "      <td>train</td>\n",
       "    </tr>\n",
       "    <tr>\n",
       "      <th>1</th>\n",
       "      <td>MNTAPSRPSPTRRDPYGFGDSRDSRRDRSPIRGSPRREPRDGRNGR...</td>\n",
       "      <td>MQRRDDPAARMSRSSGRSGSMDPSGAHPSVRQTPSRQPPLPHRSRG...</td>\n",
       "      <td>1</td>\n",
       "      <td>train</td>\n",
       "    </tr>\n",
       "    <tr>\n",
       "      <th>2</th>\n",
       "      <td>MFRNQYDNDVTVWSPQGRIHQIEYAMEAVKQGSATVGLKSKTHAVL...</td>\n",
       "      <td>MAELQQLQEFEIPTGREALRGNHSALLRVADYCEDNYVQATDKRKA...</td>\n",
       "      <td>1</td>\n",
       "      <td>train</td>\n",
       "    </tr>\n",
       "    <tr>\n",
       "      <th>3</th>\n",
       "      <td>MERSGQRVTTWDCDQGKHSDSDYREDGMDLGSDAGSSSSSSRASSQ...</td>\n",
       "      <td>MYEGKKTKNMFLTRALEKILADKEVKKAHHSQLRKACEVALEEIKA...</td>\n",
       "      <td>1</td>\n",
       "      <td>train</td>\n",
       "    </tr>\n",
       "    <tr>\n",
       "      <th>4</th>\n",
       "      <td>MDEQSVESIAEVFRCFICMEKLRDARLCPHCSKLCCFSCIRRWLTE...</td>\n",
       "      <td>MHLARLVGSCSLLLLLGALSGWAASDDPIEKVIEGINRGLSNAERE...</td>\n",
       "      <td>1</td>\n",
       "      <td>train</td>\n",
       "    </tr>\n",
       "  </tbody>\n",
       "</table>\n",
       "</div>"
      ],
      "text/plain": [
       "                                        receptor_seq  \\\n",
       "0  MNHLNVLAKALYDNVAESPDELSFRKGDIMTVLEQDTQGLDGWWLC...   \n",
       "1  MNTAPSRPSPTRRDPYGFGDSRDSRRDRSPIRGSPRREPRDGRNGR...   \n",
       "2  MFRNQYDNDVTVWSPQGRIHQIEYAMEAVKQGSATVGLKSKTHAVL...   \n",
       "3  MERSGQRVTTWDCDQGKHSDSDYREDGMDLGSDAGSSSSSSRASSQ...   \n",
       "4  MDEQSVESIAEVFRCFICMEKLRDARLCPHCSKLCCFSCIRRWLTE...   \n",
       "\n",
       "                                          ligand_seq  label  split  \n",
       "0  MSKPPPKPVKPGQVKVFRALYTFEPRTPDELYFEEGDIIYITDMSD...      1  train  \n",
       "1  MQRRDDPAARMSRSSGRSGSMDPSGAHPSVRQTPSRQPPLPHRSRG...      1  train  \n",
       "2  MAELQQLQEFEIPTGREALRGNHSALLRVADYCEDNYVQATDKRKA...      1  train  \n",
       "3  MYEGKKTKNMFLTRALEKILADKEVKKAHHSQLRKACEVALEEIKA...      1  train  \n",
       "4  MHLARLVGSCSLLLLLGALSGWAASDDPIEKVIEGINRGLSNAERE...      1  train  "
      ]
     },
     "execution_count": 6,
     "metadata": {},
     "output_type": "execute_result"
    }
   ],
   "source": [
    "train_df = pd.read_csv(\"/nfs/scratch/pinder/negative_dataset/my_repository/datasets/judith_gold_standard/train.csv\")\n",
    "train_df.head()"
   ]
  },
  {
   "cell_type": "code",
   "execution_count": 7,
   "id": "03cfc7b1",
   "metadata": {},
   "outputs": [
    {
     "name": "stdout",
     "output_type": "stream",
     "text": [
      "Max receptor_seq length: 2492\n",
      "Max ligand_seq length: 2492\n"
     ]
    }
   ],
   "source": [
    "max_receptor_len = train_df[\"receptor_seq\"].str.len().max()\n",
    "max_ligand_len = train_df[\"ligand_seq\"].str.len().max()\n",
    "\n",
    "print(f\"Max receptor_seq length: {max_receptor_len}\")\n",
    "print(f\"Max ligand_seq length: {max_ligand_len}\")"
   ]
  },
  {
   "cell_type": "code",
   "execution_count": 8,
   "id": "32cd1bbd",
   "metadata": {},
   "outputs": [
    {
     "name": "stdout",
     "output_type": "stream",
     "text": [
      "Found 47 sequence(s) with length 2492.\n"
     ]
    },
    {
     "data": {
      "text/plain": [
       "'MTAEPMSESKLNTLVQKLHDFLAHSSEESEETSSPPRLAMNQNTDKISGSGSNSDMMENSKEEGTSSSEKSKSSGSSRSKRKPSIVTKYVESDDEKPLDDETVNEDASNENSENDITMQSLPKGTVIVQPEPVLNEDKDDFKGPEFRSRSKMKTENLKKRGEDGLHGIVSCTACGQQVNHFQKDSIYRHPSLQVLICKNCFKYYMSDDISRDSDGMDEQCRWCAEGGNLICCDFCHNAFCKKCILRNLGRKELSTIMDENNQWYCYICHPEPLLDLVTACNSVFENLEQLLQQNKKKIKVDSEKSNKVYEHTSRFSPKKTSSNCNGEEKKLDDSCSGSVTYSYSALIVPKEMIKKAKKLIETTANMNSSYVKFLKQATDNSEISSATKLRQLKAFKSVLADIKKAHLALEEDLNSEFRAMDAVNKEKNTKEHKVIDAKFETKARKGEKPCALEKKDISKSEAKLSRKQVDSEHMHQNVPTEEQRTNKSTGGEHKKSDRKEEPQYEPANTSEDLDMDIVSVPSSVPEDIFENLETAMEVQSSVDHQGDGSSGTEQEVESSSVKLNISSKDNRGGIKSKTTAKVTKELYVKLTPVSLSNSPIKGADCQEVPQDKDGYKSCGLNPKLEKCGLGQENSDNEHLVENEVSLLLEESDLRRSPRVKTTPLRRPTETNPVTSNSDEECNETVKEKQKLSVPVRKKDKRNSSDSAIDNPKPNKLPKSKQSETVDQNSDSDEMLAILKEVSRMSHSSSSDTDINEIHTNHKTLYDLKTQAGKDDKGKRKRKSSTSGSDFDTKKGKSAKSSIISKKKRQTQSESSNYDSELEKEIKSMSKIGAARTTKKRIPNTKDFDSSEDEKHSKKGMDNQGHKNLKTSQEGSSDDAERKQERETFSSAEGTVDKDTTIMELRDRLPKKQQASASTDGVDKLSGKEESFTSLEVRKVAETKEKSKHLKTKTCKKVQDGLSDIAEKFLKKDQSDETSEDDKKQSKKGTEEKKKPSDFKKKVIKMEQQYESSSDGTEKLPEREEICHFPKGIKQIKNGTTDGEKKSKKIRDKTSKKKDELSDYAEKSTGKGDSCDSSEDKKSKNGAYGREKKRCKLLGKSSRKRQDCSSSDTEKYSMKEDGCNSSDKRLKRIELRERRNLSSKRNTKEIQSGSSSSDAEESSEDNKKKKQRTSSKKKAVIVKEKKRNSLRTSTKRKQADITSSSSSDIEDDDQNSIGEGSSDEQKIKPVTENLVLSSHTGFCQSSGDEALSKSVPVTVDDDDDDNDPENRIAKKMLLEEIKANLSSDEDGSSDDEPEEGKKRTGKQNEENPGDEEAKNQVNSESDSDSEESKKPRYRHRLLRHKLTVSDGESGEEKKTKPKEHKEVKGRNRRKVSSEDSEDSDFQESGVSEEVSESEDEQRPRTRSAKKAELEENQRSYKQKKKRRRIKVQEDSSSENKSNSEEEEEEKEEEEEEEEEEEEEEEDENDDSKSPGKGRKKIRKILKDDKLRTETQNALKEEEERRKRIAEREREREKLREVIEIEDASPTKCPITTKLVLDEDEETKEPLVQVHRNMVIKLKPHQVDGVQFMWDCCCESVKKTKKSPGSGCILAHCMGLGKTLQVVSFLHTVLLCDKLDFSTALVVCPLNTALNWMNEFEKWQEGLKDDEKLEVSELATVKRPQERSYMLQRWQEDGGVMIIGYEMYRNLAQGRNVKSRKLKEIFNKALVDPGPDFVVCDEGHILKNEASAVSKAMNSIRSRRRIILTGTPLQNNLIEYHCMVNFIKENLLGSIKEFRNRFINPIQNGQCADSTMVDVRVMKKRAHILYEMLAGCVQRKDYTALTKFLPPKHEYVLAVRMTSIQCKLYQYYLDHLTGVGNNSEGGRGKAGAKLFQDFQMLSRIWTHPWCLQLDYISKENKGYFDEDSMDEFIASDSDETSMSLSSDDYTKKKKKGKKGKKDSSSSGSGSDNDVEVIKVWNSRSRGGGEGNVDETGNNPSVSLKLEESKATSSSNPSSPAPDWYKDFVTDADAEVLEHSGKMVLLFEILRMAEEIGDKVLVFSQSLISLDLIEDFLELASREKTEDKDKPLIYKGEGKWLRNIDYYRLDGSTTAQSRKKWAEEFNDETNVRGRLFIISTKAGSLGINLVAANRVIIFDASWNPSYDIQSIFRVYRFGQTKPVYVYRFLAQGTMEDKIYDRQVTKQSLSFRVVDQQQVERHFTMNELTELYTFEPDLLDDPNSEKKKKRDTPMLPKDTILAELLQIHKEHIVGYHEHDSLLDHKEEEELTEEERKAAWAEYEAEKKGLTMRFNIPTGTNLPPVSFNSQTPYIPFNLGALSAMSNQQLEDLINQGREKVVEATNSVTAVRIQPLEDIISAVWKENMNLSEAQVQALALSRQASQELDVKRREAIYNDVLTKQQMLISCVQRILMNRRLQQQYNQQQQQQMTYQQATLGHLMMPKPPNLIMNPSNYQQIDMRGMYQPVAGGMQPPPLQRAPPPMRSKNPGPSQGKSM'"
      ]
     },
     "execution_count": 8,
     "metadata": {},
     "output_type": "execute_result"
    }
   ],
   "source": [
    "# Retrieve the receptor_seq with the maximum length\n",
    "mask = train_df[\"receptor_seq\"].str.len() == max_receptor_len\n",
    "max_receptor_rows = train_df.loc[mask, \"receptor_seq\"]\n",
    "\n",
    "print(f\"Found {len(max_receptor_rows)} sequence(s) with length {int(max_receptor_len)}.\")\n",
    "max_receptor_rows.iloc[0]"
   ]
  }
 ],
 "metadata": {
  "kernelspec": {
   "display_name": "Python 3 (ipykernel)",
   "language": "python",
   "name": "python3"
  },
  "language_info": {
   "codemirror_mode": {
    "name": "ipython",
    "version": 3
   },
   "file_extension": ".py",
   "mimetype": "text/x-python",
   "name": "python",
   "nbconvert_exporter": "python",
   "pygments_lexer": "ipython3",
   "version": "3.13.5"
  }
 },
 "nbformat": 4,
 "nbformat_minor": 5
}

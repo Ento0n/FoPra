{
 "cells": [
  {
   "cell_type": "markdown",
   "id": "e8620942",
   "metadata": {},
   "source": [
    "# Difference between different training split sizes\n"
   ]
  },
  {
   "cell_type": "code",
   "execution_count": 1,
   "id": "b1848642",
   "metadata": {},
   "outputs": [],
   "source": [
    "import pandas as pd\n",
    "import matplotlib.pyplot as plt"
   ]
  },
  {
   "cell_type": "code",
   "execution_count": null,
   "id": "49b5be03",
   "metadata": {},
   "outputs": [],
   "source": [
    "values = {\n",
    "    834620: 90.86,\n",
    "    400000: 82.42,\n",
    "    200000: 80.79,\n",
    "    100000: 78.49\n",
    "}"
   ]
  }
 ],
 "metadata": {
  "kernelspec": {
   "display_name": "Python 3 (ipykernel)",
   "language": "python",
   "name": "python3"
  },
  "language_info": {
   "codemirror_mode": {
    "name": "ipython",
    "version": 3
   },
   "file_extension": ".py",
   "mimetype": "text/x-python",
   "name": "python",
   "nbconvert_exporter": "python",
   "pygments_lexer": "ipython3",
   "version": "3.13.5"
  }
 },
 "nbformat": 4,
 "nbformat_minor": 5
}

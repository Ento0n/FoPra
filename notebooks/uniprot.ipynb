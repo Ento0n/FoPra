{
 "cells": [
  {
   "cell_type": "markdown",
   "id": "d7af53a8",
   "metadata": {},
   "source": [
    "# UniProt"
   ]
  },
  {
   "cell_type": "markdown",
   "id": "f12ea3a1",
   "metadata": {},
   "source": [
    "### Remove too long sequences from uniprot sequence splits"
   ]
  },
  {
   "cell_type": "code",
   "execution_count": 2,
   "id": "d8e1b567",
   "metadata": {},
   "outputs": [],
   "source": [
    "import pandas as pd\n",
    "import os"
   ]
  },
  {
   "cell_type": "code",
   "execution_count": 4,
   "id": "92cebb05",
   "metadata": {},
   "outputs": [
    {
     "name": "stderr",
     "output_type": "stream",
     "text": [
      "/tmp/ipykernel_2243494/1555669676.py:7: DtypeWarning: Columns (0) have mixed types. Specify dtype option on import or set low_memory=False.\n",
      "  train_df = pd.read_csv(train_csv)\n"
     ]
    }
   ],
   "source": [
    "path = \"/nfs/scratch/pinder/negative_dataset/my_repository/datasets/deleak_uniprot/deleak_cdhit/unique_sequences_uniprot_id\"\n",
    "\n",
    "train_csv = os.path.join(path, \"train.csv\")\n",
    "val_csv = os.path.join(path, \"val.csv\")\n",
    "test_csv = os.path.join(path, \"test.csv\")\n",
    "\n",
    "train_df = pd.read_csv(train_csv)\n",
    "val_df = pd.read_csv(val_csv)\n",
    "test_df = pd.read_csv(test_csv)"
   ]
  },
  {
   "cell_type": "code",
   "execution_count": 5,
   "id": "e3f3286d",
   "metadata": {},
   "outputs": [
    {
     "name": "stdout",
     "output_type": "stream",
     "text": [
      "Original size: 834618\n",
      "Filtered size: 830328\n",
      "Original size: 3638\n",
      "Filtered size: 3599\n",
      "Original size: 3612\n",
      "Filtered size: 3559\n"
     ]
    }
   ],
   "source": [
    "def filter_too_long_sequences(df, max_length=2500):\n",
    "    print(f\"Original size: {len(df)}\")\n",
    "    df = df[df['receptor_seq'].str.len() <= max_length]\n",
    "    df = df[df['ligand_seq'].str.len() <= max_length]\n",
    "    print(f\"Filtered size: {len(df)}\")\n",
    "\n",
    "    return df\n",
    "\n",
    "train_df = filter_too_long_sequences(train_df)\n",
    "val_df = filter_too_long_sequences(val_df)\n",
    "test_df = filter_too_long_sequences(test_df)\n",
    "\n",
    "train_df.to_csv(train_csv, index=False)\n",
    "val_df.to_csv(val_csv, index=False)\n",
    "test_df.to_csv(test_csv, index=False)\n"
   ]
  }
 ],
 "metadata": {
  "kernelspec": {
   "display_name": "Python 3 (ipykernel)",
   "language": "python",
   "name": "python3"
  },
  "language_info": {
   "codemirror_mode": {
    "name": "ipython",
    "version": 3
   },
   "file_extension": ".py",
   "mimetype": "text/x-python",
   "name": "python",
   "nbconvert_exporter": "python",
   "pygments_lexer": "ipython3",
   "version": "3.13.5"
  }
 },
 "nbformat": 4,
 "nbformat_minor": 5
}
